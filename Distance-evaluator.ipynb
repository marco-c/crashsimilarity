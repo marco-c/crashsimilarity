{
 "cells": [
  {
   "cell_type": "code",
   "execution_count": null,
   "metadata": {
    "collapsed": false
   },
   "outputs": [],
   "source": [
    "from datetime import timedelta\n",
    "import logging\n",
    "import pickle\n",
    "\n",
    "import numpy as np\n",
    "\n",
    "from gensim.models import doc2vec\n",
    "\n",
    "from crashsimilarity.downloader import SocorroDownloader\n",
    "from crashsimilarity import utils\n",
    "from crashsimilarity.models.gensim_model_wrapper import Doc2vecModelWrapper\n",
    "from crashsimilarity.evaluator import BugzillaClusters\n",
    "\n",
    "from crashsimilarity.models.similarity.doc2vec_similarity import Doc2VecSimilarity\n",
    "from crashsimilarity.models.wmd_calculator import WMDCalculator\n",
    "from crashsimilarity.models.similarity.base import GenericSimilarity\n",
    "from crashsimilarity.models.distances import edit_distance_structural"
   ]
  },
  {
   "cell_type": "code",
   "execution_count": null,
   "metadata": {
    "collapsed": true
   },
   "outputs": [],
   "source": [
    "logging.basicConfig(format='%(asctime)s : %(levelname)s : %(message)s', level=logging.INFO)"
   ]
  },
  {
   "cell_type": "code",
   "execution_count": null,
   "metadata": {
    "collapsed": true
   },
   "outputs": [],
   "source": [
    "# download training data for last 30 days\n",
    "RAW_DATA_DIR = 'crashsimilarity_data/raw'\n",
    "SocorroDownloader.download_and_save_crashes(1, save_to_dir=RAW_DATA_DIR)"
   ]
  },
  {
   "cell_type": "code",
   "execution_count": null,
   "metadata": {
    "collapsed": false
   },
   "outputs": [],
   "source": [
    "file_names = SocorroDownloader.get_dump_paths(30, data_dir=RAW_DATA_DIR)\n",
    "data_gen = utils.StackTraceProcessor.process(utils.read_files(file_names), compress=True)\n",
    "vocab = None\n",
    "traces = []\n",
    "signatures = []\n",
    "for line in data_gen:\n",
    "    vocab = line[0]\n",
    "    traces.append(line[1][0])\n",
    "    signatures.append(line[1][1])\n",
    "len(vocab), len(traces), len(signatures)"
   ]
  },
  {
   "cell_type": "code",
   "execution_count": null,
   "metadata": {
    "collapsed": true
   },
   "outputs": [],
   "source": [
    "pickle.dump(vocab, open('crashsimilarity_data/objects/vocab.pickle', 'wb'))"
   ]
  },
  {
   "cell_type": "code",
   "execution_count": null,
   "metadata": {
    "collapsed": false
   },
   "outputs": [],
   "source": [
    "# convert vocabulary positions to words itself\n",
    "for i in range(len(traces)):\n",
    "    traces[i] = [str(x) for x in traces[i]]"
   ]
  },
  {
   "cell_type": "code",
   "execution_count": null,
   "metadata": {
    "collapsed": false
   },
   "outputs": [],
   "source": [
    "# train model\n",
    "corpus = [doc2vec.TaggedDocument(trace, [i]) for i, trace in enumerate(traces)]\n",
    "model_wrapper = Doc2vecModelWrapper(corpus, None)\n",
    "model_wrapper.train_model()\n",
    "str(model_wrapper.model)"
   ]
  },
  {
   "cell_type": "code",
   "execution_count": null,
   "metadata": {
    "collapsed": false
   },
   "outputs": [],
   "source": [
    "# save model\n",
    "model_wrapper.save_model('dm_d200')"
   ]
  },
  {
   "cell_type": "code",
   "execution_count": null,
   "metadata": {
    "collapsed": false
   },
   "outputs": [],
   "source": [
    "# download bugzilla clusters\n",
    "# clusters = pickle.load(open('crashsimilarity_data/objects/bugzilla_clusters_2015-05-31_2016-05-31.pickle', 'rb'))\n",
    "FROM_DATE = '2015-05-31'\n",
    "TO_DATE = '2016-05-31'\n",
    "clusters = BugzillaClusters.download_bugs(FROM_DATE, TO_DATE, ['id', 'cf_crash_signature'])\n",
    "clusters.download_stack_traces(timedelta(days=360), True)"
   ]
  },
  {
   "cell_type": "code",
   "execution_count": null,
   "metadata": {
    "collapsed": false
   },
   "outputs": [],
   "source": [
    "clusters.save('crashsimilarity_data/objects/')"
   ]
  },
  {
   "cell_type": "code",
   "execution_count": null,
   "metadata": {
    "collapsed": false
   },
   "outputs": [],
   "source": [
    "list(clusters.stack_traces[1][0])"
   ]
  },
  {
   "cell_type": "code",
   "execution_count": null,
   "metadata": {
    "collapsed": false
   },
   "outputs": [],
   "source": [
    "clear_groups = []\n",
    "for group in clusters.stack_traces:\n",
    "    g = [list(i) for i in group]\n",
    "    g = [i[0] for i in g if i]\n",
    "    tmp = [utils.StackTraceProcessor.preprocess(i) for i in g]\n",
    "    clear_groups.append(tmp)"
   ]
  },
  {
   "cell_type": "code",
   "execution_count": null,
   "metadata": {
    "collapsed": false
   },
   "outputs": [],
   "source": [
    "[len(i) for i in clear_groups]"
   ]
  },
  {
   "cell_type": "code",
   "execution_count": null,
   "metadata": {
    "collapsed": false
   },
   "outputs": [],
   "source": [
    "compressed_corpus = []\n",
    "corpus = []\n",
    "group_indexes = []\n",
    "i = 0\n",
    "for group in clear_groups:\n",
    "    for g in group:\n",
    "        cmpr = [str(vocab.get(x, x)) for x in g]\n",
    "        compressed_corpus.append(cmpr)\n",
    "        corpus.append(g)\n",
    "    idx = []\n",
    "    for x in group:\n",
    "        idx.append(i)\n",
    "        i += 1\n",
    "    group_indexes.append(idx)\n",
    "len(compressed_corpus), len(corpus)"
   ]
  },
  {
   "cell_type": "code",
   "execution_count": null,
   "metadata": {
    "collapsed": false
   },
   "outputs": [],
   "source": [
    "corpus[0]"
   ]
  },
  {
   "cell_type": "code",
   "execution_count": null,
   "metadata": {
    "collapsed": false
   },
   "outputs": [],
   "source": [
    "compressed_corpus[0]"
   ]
  },
  {
   "cell_type": "code",
   "execution_count": null,
   "metadata": {
    "collapsed": false
   },
   "outputs": [],
   "source": [
    "doc2vec_algo = Doc2VecSimilarity(WMDCalculator.build_with_all_distances(model_wrapper.model, compressed_corpus))"
   ]
  },
  {
   "cell_type": "code",
   "execution_count": null,
   "metadata": {
    "collapsed": true
   },
   "outputs": [],
   "source": [
    "structural_dist_algo = GenericSimilarity(edit_distance_structural)"
   ]
  },
  {
   "cell_type": "code",
   "execution_count": null,
   "metadata": {
    "collapsed": false
   },
   "outputs": [],
   "source": [
    "def top_similar_traces_no_logger(trace, corpus, top_n=10):\n",
    "    logging.root.setLevel(logging.CRITICAL)\n",
    "    result = doc2vec_algo.top_similar_traces(trace, corpus, top_n)\n",
    "    logging.root.setLevel(logging.INFO)\n",
    "    return result "
   ]
  },
  {
   "cell_type": "code",
   "execution_count": null,
   "metadata": {
    "collapsed": true
   },
   "outputs": [],
   "source": [
    "def mean_cluster_distance(trace_group, top_similar):\n",
    "    rv = []\n",
    "    for pos, (idx, dist) in enumerate(top_similar[1:]):\n",
    "        if idx in trace_group:\n",
    "            rv.append(pos)\n",
    "    return np.mean(rv), rv"
   ]
  },
  {
   "cell_type": "code",
   "execution_count": null,
   "metadata": {
    "collapsed": false
   },
   "outputs": [],
   "source": [
    "results_wmd = []\n",
    "for cluster in group_indexes:\n",
    "    cur = [] # mean of means\n",
    "    for trace in cluster:\n",
    "        top10 = top_similar_traces_no_logger(compressed_corpus[trace], compressed_corpus)\n",
    "        mean, _ = mean_cluster_distance(cluster, top10)\n",
    "        cur.append(mean)\n",
    "    results_wmd.append(np.mean(cur))\n",
    "len(results_wmd)"
   ]
  },
  {
   "cell_type": "code",
   "execution_count": null,
   "metadata": {
    "collapsed": false
   },
   "outputs": [],
   "source": [
    "results_wmd"
   ]
  },
  {
   "cell_type": "code",
   "execution_count": null,
   "metadata": {
    "collapsed": false
   },
   "outputs": [],
   "source": [
    "results_structural = []\n",
    "for cluster in group_indexes:\n",
    "    cur = [] # mean of means\n",
    "    for trace in cluster:\n",
    "        top10 = structural_dist_algo.top_similar_traces(corpus[trace], corpus, 10)\n",
    "        mean, _ = mean_cluster_distance(cluster, top10)\n",
    "        cur.append(mean)\n",
    "    results_structural.append(np.mean(cur))\n",
    "len(results_structural)"
   ]
  },
  {
   "cell_type": "code",
   "execution_count": null,
   "metadata": {
    "collapsed": false
   },
   "outputs": [],
   "source": [
    "results_structural"
   ]
  }
 ],
 "metadata": {
  "kernelspec": {
   "display_name": "Python 3",
   "language": "python",
   "name": "python3"
  },
  "language_info": {
   "codemirror_mode": {
    "name": "ipython",
    "version": 3
   },
   "file_extension": ".py",
   "mimetype": "text/x-python",
   "name": "python",
   "nbconvert_exporter": "python",
   "pygments_lexer": "ipython3",
   "version": "3.6.0"
  }
 },
 "nbformat": 4,
 "nbformat_minor": 2
}
